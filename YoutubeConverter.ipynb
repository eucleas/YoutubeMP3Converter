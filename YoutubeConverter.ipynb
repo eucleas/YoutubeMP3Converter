{
 "cells": [
  {
   "cell_type": "code",
   "execution_count": null,
   "metadata": {},
   "outputs": [],
   "source": [
    "from pytube import YouTube\n",
    "import os\n",
    "yt = YouTube('https://www.youtube.com/watch?v=4ostqJD3Psc')\n",
    "video = yt.streams.filter(only_audio=True).first()\n",
    "out_file = video.download(output_path=\".\")\n",
    "base, ext = os.path.splitext(out_file)\n",
    "new_file = base + '.mp3'\n",
    "os.rename(out_file, new_file)"
   ]
  }
 ],
 "metadata": {
  "language_info": {
   "name": "python"
  }
 },
 "nbformat": 4,
 "nbformat_minor": 2
}
